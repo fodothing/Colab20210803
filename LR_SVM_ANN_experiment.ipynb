{
  "nbformat": 4,
  "nbformat_minor": 0,
  "metadata": {
    "colab": {
      "provenance": [],
      "mount_file_id": "1PyCzAx8TRGsefPu59pm-qXJaBEnMhLqJ",
      "authorship_tag": "ABX9TyObLB2M/DTGIhgYTO1j7+xw",
      "include_colab_link": true
    },
    "kernelspec": {
      "name": "python3",
      "display_name": "Python 3"
    },
    "language_info": {
      "name": "python"
    }
  },
  "cells": [
    {
      "cell_type": "markdown",
      "metadata": {
        "id": "view-in-github",
        "colab_type": "text"
      },
      "source": [
        "<a href=\"https://colab.research.google.com/github/hshuai97/Colab20210803/blob/main/LR_SVM_ANN_experiment.ipynb\" target=\"_parent\"><img src=\"https://colab.research.google.com/assets/colab-badge.svg\" alt=\"Open In Colab\"/></a>"
      ]
    },
    {
      "cell_type": "markdown",
      "source": [
        "1) 逻辑回归（Logistic Regression）和支持向量机（Support Vector Machine）实验\n",
        "\n",
        "2) 人工神经网络（Artificial Neural Network）"
      ],
      "metadata": {
        "id": "kS0z0_dtkYQ0"
      }
    },
    {
      "cell_type": "markdown",
      "source": [
        "#  1 逻辑回归"
      ],
      "metadata": {
        "id": "I_4qMLuskviH"
      }
    },
    {
      "cell_type": "markdown",
      "source": [
        "## 1.1 回归与分类的区别\n",
        "\n",
        "根据处理的问题来看，回归是对连续型变量进行建模和预测，预测值连续，而分类是对离散型变量建模和预测，预测值为离散的类别；\n",
        "\n",
        "典型的回归问题：房价预测，股票价格走势预测，商品销售量预测；典型的分类问题：垃圾邮件分类，评价的正负面分类；"
      ],
      "metadata": {
        "id": "TptNLAVTl-b8"
      }
    },
    {
      "cell_type": "markdown",
      "source": [
        "## 1.2 逻辑回归是分类\n",
        "\n",
        "逻辑回归使用sigmoid(x)函数将输入的变量进行二分类;\n",
        "\n",
        "\\begin{equation}\n",
        "  f(x) = \\frac{1}{1+e^{-x}}\n",
        "\\end{equation}\n",
        "\n",
        "函数图像如下："
      ],
      "metadata": {
        "id": "sFKWKb-DpeDn"
      }
    },
    {
      "cell_type": "code",
      "source": [
        "import matplotlib.pyplot as plt\n",
        "import math\n",
        "\n",
        "x = [i for i in range(-10,10,1)]  # 生成-10到10之间的以1递增的数\n",
        "\n",
        "func=lambda j : 1 / (1 + math.pow(math.e, -j))  # 编写一个sigmoid函数\n",
        "\n",
        "y = [func(j) for j in x]  # 依次传入每个x, 得到对应的f(x)\n",
        "\n",
        "fig = plt.figure(figsize=(9, 6))\n",
        "ax = fig.add_subplot(2,1,1)  # 添加一个1*1的图，对第一个图进行绘制\n",
        "ax1 = fig.add_subplot(2,1,2) \n",
        "\n",
        "ax.plot(x, y, \"k--\", label=\"sigmoids\")  # 画图\n",
        "ax1.plot(x, y, \"k--\", label=\"sigmoid\")  # 画图\n",
        "\n",
        "ax.legend()  # 显示线条的名称\n",
        "ax1.legend() \n",
        "\n",
        "plt.show()"
      ],
      "metadata": {
        "colab": {
          "base_uri": "https://localhost:8080/",
          "height": 374
        },
        "id": "6XuNm3TKlAjL",
        "outputId": "8900e899-3dc0-41c6-8f40-c6105b0384be"
      },
      "execution_count": 2,
      "outputs": [
        {
          "output_type": "display_data",
          "data": {
            "text/plain": [
              "<Figure size 648x432 with 2 Axes>"
            ],
            "image/png": "[encoded data removed]"
          },
          "metadata": {
            "needs_background": "light"
          }
        }
      ]
    },
    {
      "cell_type": "markdown",
      "source": [
        "逻辑回归模型的一般形式：\n",
        "\n",
        "\\begin{equation}\n",
        "  f_\\theta(x) = \\frac{1}{1+ e^{-(\\theta_0 + \\theta_1x_1 + \\theta_2x_2 +\\cdots +\\theta_nx_n)}}\n",
        "\\end{equation}"
      ],
      "metadata": {
        "id": "TwHCXpSXzyz1"
      }
    },
    {
      "cell_type": "markdown",
      "source": [
        "数据集介绍：400个学生的学习总分数和绩点信息，申请学校，预测学生是否被录取"
      ],
      "metadata": {
        "id": "fNcPTpYbAQEf"
      }
    },
    {
      "cell_type": "code",
      "source": [
        "import pandas as pd\n",
        "\n",
        "df = pd.read_csv(\"/content/drive/MyDrive/comp/data-LR-SVM/5_logisitic_admit.csv\")  # 读csv数据，见群文件\n",
        "df.insert(1, \"ones\", 0)  # 插入1列作为截距\\theta_0\n",
        "df.tail(10)  # 查看表尾的10行数据\n",
        "\n",
        "#\"D:\\SoftPackage\\MicrosoftVisualStudio\\Workspace\\Test\\test.cpp\""
      ],
      "metadata": {
        "id": "2a42kAhUsCDj",
        "colab": {
          "base_uri": "https://localhost:8080/",
          "height": 363
        },
        "outputId": "fc49f186-37bb-47a2-c973-d83be7997a16"
      },
      "execution_count": 4,
      "outputs": [
        {
          "output_type": "execute_result",
          "data": {
            "text/plain": [
              "     admit  ones  gre   gpa\n",
              "390      1     0  800  3.05\n",
              "391      1     0  660  3.88\n",
              "392      1     0  600  3.38\n",
              "393      1     0  620  3.75\n",
              "394      1     0  460  3.99\n",
              "395      0     0  620  4.00\n",
              "396      0     0  560  3.04\n",
              "397      0     0  460  2.63\n",
              "398      1     0  700  3.65\n",
              "399      0     0  600  3.89"
            ],
            "text/html": [
              "\n",
              "  <div id=\"df-7526654e-3823-4fd1-b2c0-bf8a33f01adc\">\n",
              "    <div class=\"colab-df-container\">\n",
              "      <div>\n",
              "<style scoped>\n",
              "    .dataframe tbody tr th:only-of-type {\n",
              "        vertical-align: middle;\n",
              "    }\n",
              "\n",
              "    .dataframe tbody tr th {\n",
              "        vertical-align: top;\n",
              "    }\n",
              "\n",
              "    .dataframe thead th {\n",
              "        text-align: right;\n",
              "    }\n",
              "</style>\n",
              "<table border=\"1\" class=\"dataframe\">\n",
              "  <thead>\n",
              "    <tr style=\"text-align: right;\">\n",
              "      <th></th>\n",
              "      <th>admit</th>\n",
              "      <th>ones</th>\n",
              "      <th>gre</th>\n",
              "      <th>gpa</th>\n",
              "    </tr>\n",
              "  </thead>\n",
              "  <tbody>\n",
              "    <tr>\n",
              "      <th>390</th>\n",
              "      <td>1</td>\n",
              "      <td>0</td>\n",
              "      <td>800</td>\n",
              "      <td>3.05</td>\n",
              "    </tr>\n",
              "    <tr>\n",
              "      <th>391</th>\n",
              "      <td>1</td>\n",
              "      <td>0</td>\n",
              "      <td>660</td>\n",
              "      <td>3.88</td>\n",
              "    </tr>\n",
              "    <tr>\n",
              "      <th>392</th>\n",
              "      <td>1</td>\n",
              "      <td>0</td>\n",
              "      <td>600</td>\n",
              "      <td>3.38</td>\n",
              "    </tr>\n",
              "    <tr>\n",
              "      <th>393</th>\n",
              "      <td>1</td>\n",
              "      <td>0</td>\n",
              "      <td>620</td>\n",
              "      <td>3.75</td>\n",
              "    </tr>\n",
              "    <tr>\n",
              "      <th>394</th>\n",
              "      <td>1</td>\n",
              "      <td>0</td>\n",
              "      <td>460</td>\n",
              "      <td>3.99</td>\n",
              "    </tr>\n",
              "    <tr>\n",
              "      <th>395</th>\n",
              "      <td>0</td>\n",
              "      <td>0</td>\n",
              "      <td>620</td>\n",
              "      <td>4.00</td>\n",
              "    </tr>\n",
              "    <tr>\n",
              "      <th>396</th>\n",
              "      <td>0</td>\n",
              "      <td>0</td>\n",
              "      <td>560</td>\n",
              "      <td>3.04</td>\n",
              "    </tr>\n",
              "    <tr>\n",
              "      <th>397</th>\n",
              "      <td>0</td>\n",
              "      <td>0</td>\n",
              "      <td>460</td>\n",
              "      <td>2.63</td>\n",
              "    </tr>\n",
              "    <tr>\n",
              "      <th>398</th>\n",
              "      <td>1</td>\n",
              "      <td>0</td>\n",
              "      <td>700</td>\n",
              "      <td>3.65</td>\n",
              "    </tr>\n",
              "    <tr>\n",
              "      <th>399</th>\n",
              "      <td>0</td>\n",
              "      <td>0</td>\n",
              "      <td>600</td>\n",
              "      <td>3.89</td>\n",
              "    </tr>\n",
              "  </tbody>\n",
              "</table>\n",
              "</div>\n",
              "      <button class=\"colab-df-convert\" onclick=\"convertToInteractive('df-7526654e-3823-4fd1-b2c0-bf8a33f01adc')\"\n",
              "              title=\"Convert this dataframe to an interactive table.\"\n",
              "              style=\"display:none;\">\n",
              "        \n",
              "  <svg xmlns=\"http://www.w3.org/2000/svg\" height=\"24px\"viewBox=\"0 0 24 24\"\n",
              "       width=\"24px\">\n",
              "    <path d=\"M0 0h24v24H0V0z\" fill=\"none\"/>\n",
              "    <path d=\"M18.56 5.44l.94 2.06.94-2.06 2.06-.94-2.06-.94-.94-2.06-.94 2.06-2.06.94zm-11 1L8.5 8.5l.94-2.06 2.06-.94-2.06-.94L8.5 2.5l-.94 2.06-2.06.94zm10 10l.94 2.06.94-2.06 2.06-.94-2.06-.94-.94-2.06-.94 2.06-2.06.94z\"/><path d=\"M17.41 7.96l-1.37-1.37c-.4-.4-.92-.59-1.43-.59-.52 0-1.04.2-1.43.59L10.3 9.45l-7.72 7.72c-.78.78-.78 2.05 0 2.83L4 21.41c.39.39.9.59 1.41.59.51 0 1.02-.2 1.41-.59l7.78-7.78 2.81-2.81c.8-.78.8-2.07 0-2.86zM5.41 20L4 18.59l7.72-7.72 1.47 1.35L5.41 20z\"/>\n",
              "  </svg>\n",
              "      </button>\n",
              "      \n",
              "  <style>\n",
              "    .colab-df-container {\n",
              "      display:flex;\n",
              "      flex-wrap:wrap;\n",
              "      gap: 12px;\n",
              "    }\n",
              "\n",
              "    .colab-df-convert {\n",
              "      background-color: #E8F0FE;\n",
              "      border: none;\n",
              "      border-radius: 50%;\n",
              "      cursor: pointer;\n",
              "      display: none;\n",
              "      fill: #1967D2;\n",
              "      height: 32px;\n",
              "      padding: 0 0 0 0;\n",
              "      width: 32px;\n",
              "    }\n",
              "\n",
              "    .colab-df-convert:hover {\n",
              "      background-color: #E2EBFA;\n",
              "      box-shadow: 0px 1px 2px rgba(60, 64, 67, 0.3), 0px 1px 3px 1px rgba(60, 64, 67, 0.15);\n",
              "      fill: #174EA6;\n",
              "    }\n",
              "\n",
              "    [theme=dark] .colab-df-convert {\n",
              "      background-color: #3B4455;\n",
              "      fill: #D2E3FC;\n",
              "    }\n",
              "\n",
              "    [theme=dark] .colab-df-convert:hover {\n",
              "      background-color: #434B5C;\n",
              "      box-shadow: 0px 1px 3px 1px rgba(0, 0, 0, 0.15);\n",
              "      filter: drop-shadow(0px 1px 2px rgba(0, 0, 0, 0.3));\n",
              "      fill: #FFFFFF;\n",
              "    }\n",
              "  </style>\n",
              "\n",
              "      <script>\n",
              "        const buttonEl =\n",
              "          document.querySelector('#df-7526654e-3823-4fd1-b2c0-bf8a33f01adc button.colab-df-convert');\n",
              "        buttonEl.style.display =\n",
              "          google.colab.kernel.accessAllowed ? 'block' : 'none';\n",
              "\n",
              "        async function convertToInteractive(key) {\n",
              "          const element = document.querySelector('#df-7526654e-3823-4fd1-b2c0-bf8a33f01adc');\n",
              "          const dataTable =\n",
              "            await google.colab.kernel.invokeFunction('convertToInteractive',\n",
              "                                                     [key], {});\n",
              "          if (!dataTable) return;\n",
              "\n",
              "          const docLinkHtml = 'Like what you see? Visit the ' +\n",
              "            '<a target=\"_blank\" href=https://colab.research.google.com/notebooks/data_table.ipynb>data table notebook</a>'\n",
              "            + ' to learn more about interactive tables.';\n",
              "          element.innerHTML = '';\n",
              "          dataTable['output_type'] = 'display_data';\n",
              "          await google.colab.output.renderOutput(dataTable, element);\n",
              "          const docLink = document.createElement('div');\n",
              "          docLink.innerHTML = docLinkHtml;\n",
              "          element.appendChild(docLink);\n",
              "        }\n",
              "      </script>\n",
              "    </div>\n",
              "  </div>\n",
              "  "
            ]
          },
          "metadata": {},
          "execution_count": 4
        }
      ]
    },
    {
      "cell_type": "code",
      "source": [
        "adm = df[df[\"admit\"]==1]   # 把2类数据分开画图查看\n",
        "no_adm = df[df[\"admit\"]==0]\n",
        "\n",
        "fig = plt.figure(figsize=(9, 6))  # 画图步骤同上\n",
        "ax = fig.add_subplot(1,1,1)\n",
        "\n",
        "ax.scatter(adm[\"gre\"], adm[\"gpa\"], marker='o', label = \"admit\")  # 画散点图用scatter\n",
        "ax.scatter(no_adm[\"gre\"], no_adm[\"gpa\"], marker=\"x\", label=\"not admit\")\n",
        "\n",
        "ax.legend()\n",
        "ax.set_xlabel(\"gre\")  # 为x轴设置名称\n",
        "ax.set_ylabel(\"gpa\")\n",
        "\n",
        "plt.show()"
      ],
      "metadata": {
        "id": "lrcpxSs_-Imn",
        "colab": {
          "base_uri": "https://localhost:8080/",
          "height": 388
        },
        "outputId": "e3ae7edc-21a1-476c-a186-714a22323683"
      },
      "execution_count": 5,
      "outputs": [
        {
          "output_type": "display_data",
          "data": {
            "text/plain": [
              "<Figure size 648x432 with 1 Axes>"
            ],
            "image/png": "[encoded data removed]"
          },
          "metadata": {
            "needs_background": "light"
          }
        }
      ]
    },
    {
      "cell_type": "code",
      "source": [
        "import numpy as np\n",
        "\n",
        "# 提取样本的X和y\n",
        "X = df.iloc[:, 1:4]  # 取1-3列的数据为X\n",
        "y = df.iloc[:, 0]\n",
        "\n",
        "# 将X, y转成数组\n",
        "X = np.array(X)\n",
        "y = np.array(y)\n",
        "\n",
        "m, n = np.shape(X)  # 查看数组的维度（形状）\n",
        "m,n"
      ],
      "metadata": {
        "colab": {
          "base_uri": "https://localhost:8080/"
        },
        "id": "2TiofYLfJHY1",
        "outputId": "bc903f94-cf84-4cf2-d89b-6c865dedf7f9"
      },
      "execution_count": 6,
      "outputs": [
        {
          "output_type": "execute_result",
          "data": {
            "text/plain": [
              "(400, 3)"
            ]
          },
          "metadata": {},
          "execution_count": 6
        }
      ]
    },
    {
      "cell_type": "markdown",
      "source": [
        "用sklearn库下的LogisticRegression模块进行分类："
      ],
      "metadata": {
        "id": "CL_vchmFAXCe"
      }
    },
    {
      "cell_type": "code",
      "source": [
        "from sklearn.linear_model import LogisticRegression  # 导入逻辑回归包\n",
        "\n",
        "classifier = LogisticRegression(C=1.3)  # 实例化一个逻辑回归的分类器对象\n",
        "classifier.fit(X, y)  # 训练数据\n",
        "\n",
        "classifier.coef_  # 打印损失误差最小的时候\\theta_0, \\theta_1, \\theta_2的值"
      ],
      "metadata": {
        "id": "Hct6rVCsAz6W",
        "colab": {
          "base_uri": "https://localhost:8080/"
        },
        "outputId": "5a2095aa-7a20-4018-dad4-3eda6a87bca1"
      },
      "execution_count": 7,
      "outputs": [
        {
          "output_type": "execute_result",
          "data": {
            "text/plain": [
              "array([[0.        , 0.00944915, 2.18284071]])"
            ]
          },
          "metadata": {},
          "execution_count": 7
        }
      ]
    },
    {
      "cell_type": "markdown",
      "source": [
        "训练集的分类准确率："
      ],
      "metadata": {
        "id": "fUFIEDZDN_hh"
      }
    },
    {
      "cell_type": "code",
      "source": [
        "pred = classifier.predict(X)   # 预测数据\n",
        "\n",
        "correct = [1 if ((a==1 and b==1) or (a==0 and b==0)) else 0 for (a, b) in zip(pred, y)]  # 删选出分类正确的样本个数\n",
        "\n",
        "acc = sum(map(int, correct)) / len(correct)  # 相当于训练集上的准确率\n",
        "\n",
        "acc"
      ],
      "metadata": {
        "colab": {
          "base_uri": "https://localhost:8080/"
        },
        "id": "HNM8gQQ1LHE_",
        "outputId": "29af7083-0e94-40b0-97f0-2762c1906b76"
      },
      "execution_count": 8,
      "outputs": [
        {
          "output_type": "execute_result",
          "data": {
            "text/plain": [
              "0.76"
            ]
          },
          "metadata": {},
          "execution_count": 8
        }
      ]
    },
    {
      "cell_type": "code",
      "source": [
        "# classifier.score(X, y)  # 上面一段函数功能等于这个内置的函数"
      ],
      "metadata": {
        "id": "nGgaucI_OEvW"
      },
      "execution_count": 9,
      "outputs": []
    },
    {
      "cell_type": "markdown",
      "source": [
        "# 2 支持向量机"
      ],
      "metadata": {
        "id": "UisM5WHxk8KX"
      }
    },
    {
      "cell_type": "markdown",
      "source": [
        "svm工具包：https://www.csie.ntu.edu.tw/~cjlin/libsvm/index.html"
      ],
      "metadata": {
        "id": "3HRZCodM22YC"
      }
    },
    {
      "cell_type": "markdown",
      "source": [
        "##  2.1 超平面与间隔最大化"
      ],
      "metadata": {
        "id": "z138oaoUQveg"
      }
    },
    {
      "cell_type": "markdown",
      "source": [
        "1）超平面，从二维到n维：\n",
        "\n",
        "\\begin{equation}\n",
        "  \\omega_1x_1 + \\omega_2x_2 + \\cdots +  \\omega_nx_n=0, ( \\omega_1, \\omega_2, \\cdots,  \\omega_n不同时为0)\n",
        "\\end{equation}\n",
        "\n",
        "2) 几何间隔定义：所有样本点到超平面的几何间隔的最小值作为几何间隔：\n",
        "\\begin{equation}\n",
        "  \\hat{\\gamma}_i = y_i(\\frac{\\omega}{||\\omega||}x_i + \\frac{b}{||\\omega||}),  ||\\omega||=\\sqrt{\\omega_1^2+\\omega_2^2+\\cdots +\\omega_n^2}\n",
        "\\end{equation}\n",
        "\n",
        "\\begin{equation}\n",
        "  \\hat{\\gamma} = \\min_\\limits{i=1, \\cdots, N} \\hat{\\gamma}_i\n",
        "\\end{equation}\n",
        "\n",
        "3）间隔最大化：找到“最合适”的超平面使得间隔最大：\n",
        "\\begin{equation}\n",
        "  \\max_\\limits{w, b} \\frac{\\hat{\\gamma}}{||\\omega||}\\\\\n",
        "  s.t. y_i(w\\cdot x_i + b) \\geq \\hat{\\gamma}\n",
        "\\end{equation}\n",
        "\n",
        "\n",
        "\n",
        "其中，$(x_i, y_i)$是样本点，$x_i$为第$i$个样本，$y_i$是标签;\n",
        "\n",
        "\n",
        "4）支持向量：数据点处在最优平面的上下界上的点都是支持向量"
      ],
      "metadata": {
        "id": "bALsdMk0UI-Y"
      }
    },
    {
      "cell_type": "markdown",
      "source": [
        "##   2.2 线性不可分支持向量机"
      ],
      "metadata": {
        "id": "COTODXTDWkBA"
      }
    },
    {
      "cell_type": "markdown",
      "source": [
        "1）线性可分支持向量机：用一个超平面可以划分开\n",
        "\n",
        "2）线性不可分支持向量机：存在交叉的点，超平面分不开；\n",
        "\n",
        "3）非线性可分支持向量机；\n",
        "\n",
        "3）多类分类支持向量机；"
      ],
      "metadata": {
        "id": "pvypvXHq4H-c"
      }
    },
    {
      "cell_type": "markdown",
      "source": [
        "线性不可分："
      ],
      "metadata": {
        "id": "reZdubKE8DLn"
      }
    },
    {
      "cell_type": "code",
      "execution_count": 10,
      "metadata": {
        "id": "XLlVikeijoIn",
        "colab": {
          "base_uri": "https://localhost:8080/"
        },
        "outputId": "4e73bb39-e1bf-48a3-f549-aea8a334839c"
      },
      "outputs": [
        {
          "output_type": "execute_result",
          "data": {
            "text/plain": [
              "0.77"
            ]
          },
          "metadata": {},
          "execution_count": 10
        }
      ],
      "source": [
        "from sklearn.metrics import accuracy_score\n",
        "from sklearn.svm import SVC  # 支持向量机函数库\n",
        "\n",
        "cls = SVC(kernel=\"linear\", C=0.01)\n",
        "cls.fit(X, y)  # 训练数据\n",
        "\n",
        "cls.score(X, y)  # 训练集上的分类精度"
      ]
    },
    {
      "cell_type": "code",
      "source": [
        "cls = SVC(kernel=\"poly\", degree=2)  # 核函数为多项式的SVM\n",
        "cls.fit(X, y)  # 训练数据\n",
        "\n",
        "cls.score(X, y)  # 训练集上的分类精度"
      ],
      "metadata": {
        "colab": {
          "base_uri": "https://localhost:8080/"
        },
        "id": "TmU-e-GK_dtN",
        "outputId": "bbdb30da-3d39-45fb-eda7-24a188b40872"
      },
      "execution_count": 11,
      "outputs": [
        {
          "output_type": "execute_result",
          "data": {
            "text/plain": [
              "0.77"
            ]
          },
          "metadata": {},
          "execution_count": 11
        }
      ]
    },
    {
      "cell_type": "code",
      "source": [
        "cls = SVC(kernel=\"rbf\", gamma=1.5)  # 核函数为径向基的SVM\n",
        "cls.fit(X, y)  # 训练数据\n",
        "\n",
        "cls.score(X, y)  # 训练集上的分类精度"
      ],
      "metadata": {
        "colab": {
          "base_uri": "https://localhost:8080/"
        },
        "id": "YaIMyEMF_3OH",
        "outputId": "854095bf-6305-456b-e3b1-faa3227f409b"
      },
      "execution_count": 12,
      "outputs": [
        {
          "output_type": "execute_result",
          "data": {
            "text/plain": [
              "0.8075"
            ]
          },
          "metadata": {},
          "execution_count": 12
        }
      ]
    },
    {
      "cell_type": "code",
      "source": [
        "cls = SVC(kernel=\"sigmoid\", gamma=1)  # 核函数为sigmoid的SVM\n",
        "cls.fit(X, y)  # 训练数据\n",
        "\n",
        "cls.score(X, y)  # 训练集上的分类精度"
      ],
      "metadata": {
        "colab": {
          "base_uri": "https://localhost:8080/"
        },
        "id": "YSzXI4YgASOg",
        "outputId": "19f23816-8fa8-4a97-f1b2-45a812d8e4fa"
      },
      "execution_count": 13,
      "outputs": [
        {
          "output_type": "execute_result",
          "data": {
            "text/plain": [
              "0.6725"
            ]
          },
          "metadata": {},
          "execution_count": 13
        }
      ]
    },
    {
      "cell_type": "markdown",
      "source": [
        "可以调的参数：\n",
        "\n",
        "SVC(C=1.0, kernel='rbf', degree=3, gamma='auto', coef0=0.0, \n",
        "shrinking=True, probability=False, tol=0.001, cache_size=200,\n",
        " class_weight=None, verbose=False, max_iter=-1, decision_function_shape='ovr', random_state=None)"
      ],
      "metadata": {
        "id": "3wnNHr68BOcX"
      }
    },
    {
      "cell_type": "markdown",
      "source": [
        "# 3 人工神经网络"
      ],
      "metadata": {
        "id": "m8vNWgwPp2pH"
      }
    },
    {
      "cell_type": "markdown",
      "source": [
        "## 3.1反向传播BP神经网络"
      ],
      "metadata": {
        "id": "N7MuwMepp9oI"
      }
    },
    {
      "cell_type": "code",
      "source": [
        "# 导入包\n",
        "import numpy as np\n",
        "from sklearn import model_selection\n",
        "from sklearn.preprocessing import StandardScaler  # 对数据进行标准化操作\n",
        "\n",
        "scaler = StandardScaler()\n",
        "scaler.fit(X)\n",
        "X = scaler.transform(X)   # 执行了z = (x - u) / s，u是特征的均值，s是特征的标准方差\n",
        "X"
      ],
      "metadata": {
        "colab": {
          "base_uri": "https://localhost:8080/"
        },
        "id": "ffGpUTUcp2Sq",
        "outputId": "092a36ea-5269-45b7-befa-782938b3c3d5"
      },
      "execution_count": 105,
      "outputs": [
        {
          "output_type": "execute_result",
          "data": {
            "text/plain": [
              "array([[ 0.        , -1.80026271,  0.57907221],\n",
              "       [ 0.        ,  0.62666824,  0.73692924],\n",
              "       [ 0.        ,  1.84013372,  1.60514292],\n",
              "       ...,\n",
              "       [ 0.        , -1.10685387, -1.99925931],\n",
              "       [ 0.        ,  0.97337266,  0.68431023],\n",
              "       [ 0.        ,  0.10661161,  1.31573836]])"
            ]
          },
          "metadata": {},
          "execution_count": 105
        }
      ]
    },
    {
      "cell_type": "code",
      "source": [
        "from sklearn.model_selection import train_test_split  # 划分训练集、测试集\n",
        "\n",
        "X_train, X_test, y_train, y_test = train_test_split(X, y, test_size=0.25, random_state=2)  #划分训练集和测试集，测试集大小为25%的样本\n",
        "\n",
        "X_train.shape  # 查看训练集的X的形状"
      ],
      "metadata": {
        "colab": {
          "base_uri": "https://localhost:8080/"
        },
        "id": "40TsgViIp2Lg",
        "outputId": "1b2cd83e-3aba-4df8-ef24-ce09efd2b7b6"
      },
      "execution_count": 106,
      "outputs": [
        {
          "output_type": "execute_result",
          "data": {
            "text/plain": [
              "(300, 3)"
            ]
          },
          "metadata": {},
          "execution_count": 106
        }
      ]
    },
    {
      "cell_type": "code",
      "source": [
        "from sklearn.neural_network import MLPClassifier  # 多层感知器，典型的一个BP神经网络\n",
        "\n",
        "mlp = MLPClassifier(solver=\"adam\", activation=\"tanh\", alpha=1e-4, hidden_layer_sizes=(50,),\n",
        "                    learning_rate_init=0.001, max_iter=2000)  # 实例化一个MLP分类器\n",
        "\n",
        "mlp.fit(X_train, y_train)  # 用训练集训练模型的参数"
      ],
      "metadata": {
        "colab": {
          "base_uri": "https://localhost:8080/"
        },
        "id": "mNHOra2NxLAm",
        "outputId": "f137770c-f148-4103-c0ef-c0c1751ee1e4"
      },
      "execution_count": 107,
      "outputs": [
        {
          "output_type": "execute_result",
          "data": {
            "text/plain": [
              "MLPClassifier(activation='tanh', hidden_layer_sizes=(50,), max_iter=2000)"
            ]
          },
          "metadata": {},
          "execution_count": 107
        }
      ]
    },
    {
      "cell_type": "code",
      "source": [
        "y_pred = mlp.predict(X_test)  # 测试集上的预测结果\n",
        "y_pred"
      ],
      "metadata": {
        "colab": {
          "base_uri": "https://localhost:8080/"
        },
        "id": "wb51WEO4yov0",
        "outputId": "eab77623-f6a8-4415-e04a-bc34bc41d7e9"
      },
      "execution_count": 108,
      "outputs": [
        {
          "output_type": "execute_result",
          "data": {
            "text/plain": [
              "array([0, 0, 1, 0, 0, 1, 0, 0, 0, 0, 0, 1, 1, 0, 1, 0, 0, 1, 0, 1, 0, 0,\n",
              "       0, 1, 1, 0, 0, 0, 0, 0, 1, 0, 1, 0, 0, 1, 1, 0, 1, 0, 1, 0, 0, 1,\n",
              "       1, 0, 0, 0, 0, 1, 0, 0, 0, 0, 0, 0, 0, 0, 1, 0, 0, 0, 0, 0, 0, 0,\n",
              "       0, 0, 1, 0, 1, 1, 0, 1, 0, 0, 1, 0, 0, 0, 1, 0, 0, 0, 0, 1, 0, 0,\n",
              "       0, 0, 0, 1, 1, 0, 0, 1, 1, 0, 0, 1])"
            ]
          },
          "metadata": {},
          "execution_count": 108
        }
      ]
    },
    {
      "cell_type": "markdown",
      "source": [
        "准确率：\n",
        "\\begin{equation}\n",
        "  acc = \\frac{correct}{total}\n",
        "\\end{equation}"
      ],
      "metadata": {
        "id": "sfC40D0jy_bE"
      }
    },
    {
      "cell_type": "code",
      "source": [
        "from sklearn.metrics import accuracy_score\n",
        "# 计算accuracy\n",
        "acc = accuracy_score(y_test, y_pred)\n",
        "acc"
      ],
      "metadata": {
        "colab": {
          "base_uri": "https://localhost:8080/"
        },
        "id": "ako9LL_by6Kg",
        "outputId": "163a478c-7cad-463e-d70e-0b00405c81cd"
      },
      "execution_count": 109,
      "outputs": [
        {
          "output_type": "execute_result",
          "data": {
            "text/plain": [
              "0.74"
            ]
          },
          "metadata": {},
          "execution_count": 109
        }
      ]
    },
    {
      "cell_type": "code",
      "source": [
        "from sklearn.metrics import confusion_matrix\n",
        "\n",
        "confusion_matrix(y_true=y_test, y_pred=y_pred)"
      ],
      "metadata": {
        "colab": {
          "base_uri": "https://localhost:8080/"
        },
        "id": "Qqwzc0M_zr0S",
        "outputId": "0d22e62a-ece7-4d22-a434-4f6e249c89a2"
      },
      "execution_count": 110,
      "outputs": [
        {
          "output_type": "execute_result",
          "data": {
            "text/plain": [
              "array([[52,  9],\n",
              "       [17, 22]])"
            ]
          },
          "metadata": {},
          "execution_count": 110
        }
      ]
    },
    {
      "cell_type": "markdown",
      "source": [
        "# 总结"
      ],
      "metadata": {
        "id": "lnPryJF_2mj4"
      }
    },
    {
      "cell_type": "markdown",
      "source": [
        "额外实验：将上面三个分类实验整合"
      ],
      "metadata": {
        "id": "qPHg-AV42qFd"
      }
    },
    {
      "cell_type": "code",
      "source": [
        "import pandas as pd\n",
        "import numpy as np\n",
        "from sklearn import model_selection\n",
        "from sklearn.preprocessing import StandardScaler  # 对数据进行标准化操作\n",
        "from sklearn.model_selection import train_test_split  # 划分训练集、测试集\n",
        "\n",
        "from sklearn.metrics import confusion_matrix\n",
        "\n",
        "\n",
        "\n",
        "df = pd.read_csv(\"/content/drive/MyDrive/comp/data-LR-SVM/5_logisitic_admit.csv\")  # 读csv数据，见群文件\n",
        "df.insert(1, \"ones\", 0)  # 插入1列作为截距\\theta_0\n",
        "\n",
        "# 提取样本的X和y\n",
        "X = df.iloc[:, 1:4]  # 取1-3列的数据为X\n",
        "y = df.iloc[:, 0]\n",
        "\n",
        "# 将X, y转成数组\n",
        "X = np.array(X)\n",
        "y = np.array(y)\n",
        "\n",
        "m, n = np.shape(X)  # 查看数组的维度:（400， 3）\n",
        "#print(m,n)\n",
        "\n",
        "\n",
        "# 数据标准化\n",
        "scaler = StandardScaler()\n",
        "scaler.fit(X)\n",
        "X = scaler.transform(X)   # 执行了z = (x - u) / s，u是特征的均值，s是特征的标准方差\n",
        "#print(X)\n",
        "\n",
        "# 划分训练集、测试集\n",
        "X_train, X_test, y_train, y_test = train_test_split(X, y, test_size=0.25, random_state=2)  #划分训练集和测试集，测试集大小为25%的样本"
      ],
      "metadata": {
        "id": "UdekudZA29su"
      },
      "execution_count": 2,
      "outputs": []
    },
    {
      "cell_type": "markdown",
      "source": [
        "数据准备完毕，使用分类器分类：LR, SVM, ANN"
      ],
      "metadata": {
        "id": "RKfwEdtP4wr3"
      }
    },
    {
      "cell_type": "code",
      "source": [
        "# 用逻辑回归分类\n",
        "from sklearn.linear_model import LogisticRegression  # 导入逻辑回归包\n",
        "\n",
        "classifier = LogisticRegression(C=1.3)  # 实例化一个逻辑回归的分类器对象\n",
        "classifier.fit(X_train, y_train)  # 训练数据\n",
        "\n",
        "acc1 = classifier.score(X_test, y_test) \n",
        "print(acc1)\n",
        "\n",
        "\n",
        "pred1 = classifier.predict(X_test)   # 预测数据\n",
        "confusion_matrix(y_true=y_test, y_pred=pred1)"
      ],
      "metadata": {
        "colab": {
          "base_uri": "https://localhost:8080/"
        },
        "id": "mb6xgG0a4sxl",
        "outputId": "12444381-0392-444d-bd3b-9a3d44f0d5f2"
      },
      "execution_count": 8,
      "outputs": [
        {
          "output_type": "stream",
          "name": "stdout",
          "text": [
            "0.73\n"
          ]
        },
        {
          "output_type": "execute_result",
          "data": {
            "text/plain": [
              "array([[52,  9],\n",
              "       [18, 21]])"
            ]
          },
          "metadata": {},
          "execution_count": 8
        }
      ]
    },
    {
      "cell_type": "code",
      "source": [
        "# 使用支持向量机分类\n",
        "from sklearn.svm import SVC  # 支持向量机函数库\n",
        "\n",
        "cls = SVC(kernel=\"rbf\", gamma=1.5)  # 核函数为径向基的SVM\n",
        "cls.fit(X_train, y_train)  # 训练集上训练数据\n",
        "\n",
        "acc2 = cls.score(X_test, y_test)  # 测试集上的分类准确率\n",
        "\n",
        "print(acc2)\n",
        "\n",
        "pred2 = cls.predict(X_test)   # 预测数据\n",
        "confusion_matrix(y_true=y_test, y_pred=pred2)"
      ],
      "metadata": {
        "colab": {
          "base_uri": "https://localhost:8080/"
        },
        "id": "IOg3r5OZ5PCX",
        "outputId": "fd24353a-e858-4ef1-eb4c-fcde4187ec84"
      },
      "execution_count": 11,
      "outputs": [
        {
          "output_type": "stream",
          "name": "stdout",
          "text": [
            "0.69\n"
          ]
        },
        {
          "output_type": "execute_result",
          "data": {
            "text/plain": [
              "array([[55,  6],\n",
              "       [25, 14]])"
            ]
          },
          "metadata": {},
          "execution_count": 11
        }
      ]
    },
    {
      "cell_type": "code",
      "source": [
        "# 使用神经网络分类\n",
        "from sklearn.neural_network import MLPClassifier  # 多层感知器，典型的一个BP神经网络\n",
        "\n",
        "mlp = MLPClassifier(solver=\"adam\", activation=\"tanh\", alpha=1e-4, hidden_layer_sizes=(50,),\n",
        "                    learning_rate_init=0.001, max_iter=2000)  # 实例化一个MLP分类器\n",
        "\n",
        "mlp.fit(X_train, y_train)  # 用训练集训练模型的参数\n",
        "\n",
        "acc3 = mlp.score(X_test, y_test)\n",
        "print(acc3)\n",
        "\n",
        "pred3 = mlp.predict(X_test)   # 预测数据\n",
        "confusion_matrix(y_true=y_test, y_pred=pred3)"
      ],
      "metadata": {
        "colab": {
          "base_uri": "https://localhost:8080/"
        },
        "id": "ySxahu5W76PZ",
        "outputId": "b9e06186-2167-4ddd-c66b-c425bba21002"
      },
      "execution_count": 14,
      "outputs": [
        {
          "output_type": "stream",
          "name": "stdout",
          "text": [
            "0.74\n"
          ]
        },
        {
          "output_type": "execute_result",
          "data": {
            "text/plain": [
              "array([[51, 10],\n",
              "       [16, 23]])"
            ]
          },
          "metadata": {},
          "execution_count": 14
        }
      ]
    }
  ]
}